{
 "cells": [
  {
   "cell_type": "code",
   "execution_count": 20,
   "id": "0abaa199",
   "metadata": {},
   "outputs": [],
   "source": [
    "# Imports\n",
    "import warnings\n",
    "import numpy as np\n",
    "import pandas as pd\n",
    "%matplotlib inline\n",
    "%config InlineBackend.figure_format = 'png' #retina\n",
    "import matplotlib.pyplot as plt\n",
    "import seaborn as sns\n",
    "import warnings\n",
    "warnings.filterwarnings('ignore')\n",
    "import scipy.stats as stats\n",
    "from scipy.stats import skew,norm\n",
    "from scipy.stats.stats import pearsonr"
   ]
  },
  {
   "cell_type": "code",
   "execution_count": 28,
   "id": "e7b4aa25",
   "metadata": {
    "scrolled": true
   },
   "outputs": [],
   "source": [
    "train = pd.read_csv(\"train_cleaned.csv\")\n",
    "test = pd.read_csv(\"test_cleaned.csv\")\n",
    "\n",
    "train_ID = train['House_Id']\n",
    "test_ID = test['House_Id']\n",
    "\n",
    "\n",
    "train.drop(\"House_Id\", axis = 1, inplace = True)\n",
    "test.drop(\"House_Id\", axis = 1, inplace = True)\n",
    "\n"
   ]
  },
  {
   "cell_type": "code",
   "execution_count": 29,
   "id": "ecf8620d",
   "metadata": {},
   "outputs": [
    {
     "name": "stdout",
     "output_type": "stream",
     "text": [
      "Train Data: \n",
      "\n",
      "Number of columns: 18\n",
      "Number of rows: 1458\n",
      "\n",
      "Test Data: \n",
      "\n",
      "Number of columns: 17\n",
      "Number of rows: 1459\n"
     ]
    }
   ],
   "source": [
    "print('Train Data: \\n')\n",
    "print(\"Number of columns: \"+ str(train.shape[1]))\n",
    "print(\"Number of rows: \"+ str(train.shape[0]))\n",
    "print('\\nTest Data: \\n')\n",
    "print(\"Number of columns: \"+ str(test.shape[1]))\n",
    "print(\"Number of rows: \"+ str(test.shape[0]))"
   ]
  },
  {
   "cell_type": "code",
   "execution_count": 30,
   "id": "fb5d36bb",
   "metadata": {},
   "outputs": [
    {
     "data": {
      "text/plain": [
       "count      1458.000000\n",
       "mean     180932.919067\n",
       "std       79495.055285\n",
       "min       34900.000000\n",
       "25%      129925.000000\n",
       "50%      163000.000000\n",
       "75%      214000.000000\n",
       "max      755000.000000\n",
       "Name: SalePrice, dtype: float64"
      ]
     },
     "execution_count": 30,
     "metadata": {},
     "output_type": "execute_result"
    }
   ],
   "source": [
    "#descriptive statistics summary\n",
    "train['SalePrice'].describe()"
   ]
  },
  {
   "cell_type": "code",
   "execution_count": null,
   "id": "290a04df",
   "metadata": {},
   "outputs": [],
   "source": []
  }
 ],
 "metadata": {
  "kernelspec": {
   "display_name": "Python 3 (ipykernel)",
   "language": "python",
   "name": "python3"
  },
  "language_info": {
   "codemirror_mode": {
    "name": "ipython",
    "version": 3
   },
   "file_extension": ".py",
   "mimetype": "text/x-python",
   "name": "python",
   "nbconvert_exporter": "python",
   "pygments_lexer": "ipython3",
   "version": "3.9.7"
  }
 },
 "nbformat": 4,
 "nbformat_minor": 5
}
